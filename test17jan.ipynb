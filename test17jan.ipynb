{
 "cells": [
  {
   "cell_type": "markdown",
   "id": "01cb23cb-9da4-4dc8-a617-74868e6a1884",
   "metadata": {},
   "source": [
    "#17.01.2025"
   ]
  },
  {
   "cell_type": "code",
   "execution_count": 2,
   "id": "fd56dcdb-daa8-457e-8722-87be6761ca1d",
   "metadata": {},
   "outputs": [
    {
     "data": {
      "text/plain": [
       "1"
      ]
     },
     "execution_count": 2,
     "metadata": {},
     "output_type": "execute_result"
    }
   ],
   "source": [
    "int(True)"
   ]
  },
  {
   "cell_type": "code",
   "execution_count": 4,
   "id": "8e6277ed-8b45-4251-87dc-8df283e44ebe",
   "metadata": {},
   "outputs": [
    {
     "ename": "TypeError",
     "evalue": "int() argument must be a string, a bytes-like object or a real number, not 'complex'",
     "output_type": "error",
     "traceback": [
      "\u001b[0;31m---------------------------------------------------------------------------\u001b[0m",
      "\u001b[0;31mTypeError\u001b[0m                                 Traceback (most recent call last)",
      "Cell \u001b[0;32mIn[4], line 1\u001b[0m\n\u001b[0;32m----> 1\u001b[0m \u001b[38;5;28mint\u001b[39m(\u001b[38;5;241m1\u001b[39m\u001b[38;5;241m+\u001b[39m\u001b[38;5;241m2\u001b[39mj)\n",
      "\u001b[0;31mTypeError\u001b[0m: int() argument must be a string, a bytes-like object or a real number, not 'complex'"
     ]
    }
   ],
   "source": [
    "int(1+2j)"
   ]
  },
  {
   "cell_type": "code",
   "execution_count": 6,
   "id": "49581692-3205-4a97-86fd-7812ccef0a50",
   "metadata": {},
   "outputs": [
    {
     "data": {
      "text/plain": [
       "100.0"
      ]
     },
     "execution_count": 6,
     "metadata": {},
     "output_type": "execute_result"
    }
   ],
   "source": [
    "float(100)"
   ]
  },
  {
   "cell_type": "code",
   "execution_count": 8,
   "id": "4d2f6147-b74f-48a5-a38e-5655fc0719f6",
   "metadata": {},
   "outputs": [
    {
     "data": {
      "text/plain": [
       "0.0"
      ]
     },
     "execution_count": 8,
     "metadata": {},
     "output_type": "execute_result"
    }
   ],
   "source": [
    "float(False)"
   ]
  },
  {
   "cell_type": "code",
   "execution_count": 10,
   "id": "3af47c58-f7ed-434b-90fc-8421b2ef3695",
   "metadata": {},
   "outputs": [
    {
     "ename": "ValueError",
     "evalue": "could not convert string to float: 'ten'",
     "output_type": "error",
     "traceback": [
      "\u001b[0;31m---------------------------------------------------------------------------\u001b[0m",
      "\u001b[0;31mValueError\u001b[0m                                Traceback (most recent call last)",
      "Cell \u001b[0;32mIn[10], line 1\u001b[0m\n\u001b[0;32m----> 1\u001b[0m \u001b[38;5;28mfloat\u001b[39m(\u001b[38;5;124m\"\u001b[39m\u001b[38;5;124mten\u001b[39m\u001b[38;5;124m\"\u001b[39m)\n",
      "\u001b[0;31mValueError\u001b[0m: could not convert string to float: 'ten'"
     ]
    }
   ],
   "source": [
    "float(\"ten\")"
   ]
  },
  {
   "cell_type": "code",
   "execution_count": 12,
   "id": "d3fc1f03-582a-45da-b636-15656fb803e5",
   "metadata": {},
   "outputs": [
    {
     "ename": "TypeError",
     "evalue": "'float' object cannot be interpreted as an integer",
     "output_type": "error",
     "traceback": [
      "\u001b[0;31m---------------------------------------------------------------------------\u001b[0m",
      "\u001b[0;31mTypeError\u001b[0m                                 Traceback (most recent call last)",
      "Cell \u001b[0;32mIn[12], line 1\u001b[0m\n\u001b[0;32m----> 1\u001b[0m \u001b[38;5;28mint\u001b[39m(\u001b[38;5;241m10.2\u001b[39m,\u001b[38;5;241m20.2\u001b[39m)\n",
      "\u001b[0;31mTypeError\u001b[0m: 'float' object cannot be interpreted as an integer"
     ]
    }
   ],
   "source": [
    "int(10.2,20.2)"
   ]
  },
  {
   "cell_type": "code",
   "execution_count": 14,
   "id": "a886f7c6-53fd-4343-9509-9c9b408cd75f",
   "metadata": {},
   "outputs": [
    {
     "data": {
      "text/plain": [
       "10"
      ]
     },
     "execution_count": 14,
     "metadata": {},
     "output_type": "execute_result"
    }
   ],
   "source": [
    "int(10.2)"
   ]
  },
  {
   "cell_type": "code",
   "execution_count": 16,
   "id": "7132c297-7eb1-4160-aea8-ca57a338fb8e",
   "metadata": {},
   "outputs": [
    {
     "ename": "TypeError",
     "evalue": "float expected at most 1 argument, got 3",
     "output_type": "error",
     "traceback": [
      "\u001b[0;31m---------------------------------------------------------------------------\u001b[0m",
      "\u001b[0;31mTypeError\u001b[0m                                 Traceback (most recent call last)",
      "Cell \u001b[0;32mIn[16], line 1\u001b[0m\n\u001b[0;32m----> 1\u001b[0m \u001b[38;5;28mfloat\u001b[39m(\u001b[38;5;241m10\u001b[39m,\u001b[38;5;241m20\u001b[39m,\u001b[38;5;241m30\u001b[39m)\n",
      "\u001b[0;31mTypeError\u001b[0m: float expected at most 1 argument, got 3"
     ]
    }
   ],
   "source": [
    "float(10,20,30)"
   ]
  },
  {
   "cell_type": "code",
   "execution_count": 18,
   "id": "fc2b262c-ce54-433a-8c42-ef5fa87e4977",
   "metadata": {},
   "outputs": [
    {
     "data": {
      "text/plain": [
       "(1+0j)"
      ]
     },
     "execution_count": 18,
     "metadata": {},
     "output_type": "execute_result"
    }
   ],
   "source": [
    "complex(1)"
   ]
  },
  {
   "cell_type": "code",
   "execution_count": 20,
   "id": "0dd33e7d-4551-4889-b6cc-949d016d09ce",
   "metadata": {},
   "outputs": [
    {
     "data": {
      "text/plain": [
       "(1+2j)"
      ]
     },
     "execution_count": 20,
     "metadata": {},
     "output_type": "execute_result"
    }
   ],
   "source": [
    "complex(1,2)"
   ]
  },
  {
   "cell_type": "code",
   "execution_count": 22,
   "id": "4e600f7a-5e14-4776-8895-b1b0b858a398",
   "metadata": {},
   "outputs": [
    {
     "ename": "TypeError",
     "evalue": "complex() takes at most 2 arguments (3 given)",
     "output_type": "error",
     "traceback": [
      "\u001b[0;31m---------------------------------------------------------------------------\u001b[0m",
      "\u001b[0;31mTypeError\u001b[0m                                 Traceback (most recent call last)",
      "Cell \u001b[0;32mIn[22], line 1\u001b[0m\n\u001b[0;32m----> 1\u001b[0m \u001b[38;5;28mcomplex\u001b[39m(\u001b[38;5;241m1\u001b[39m,\u001b[38;5;241m2\u001b[39m,\u001b[38;5;241m3\u001b[39m)\n",
      "\u001b[0;31mTypeError\u001b[0m: complex() takes at most 2 arguments (3 given)"
     ]
    }
   ],
   "source": [
    "complex(1,2,3)"
   ]
  },
  {
   "cell_type": "code",
   "execution_count": 24,
   "id": "b913f6d8-b437-4606-a8c7-6130c29e4dbe",
   "metadata": {},
   "outputs": [
    {
     "data": {
      "text/plain": [
       "(10.2+23j)"
      ]
     },
     "execution_count": 24,
     "metadata": {},
     "output_type": "execute_result"
    }
   ],
   "source": [
    "complex(10.2,23)"
   ]
  },
  {
   "cell_type": "code",
   "execution_count": 26,
   "id": "ef66194a-23ef-4337-a348-2428c8faa2ad",
   "metadata": {},
   "outputs": [
    {
     "data": {
      "text/plain": [
       "(33.6567+0j)"
      ]
     },
     "execution_count": 26,
     "metadata": {},
     "output_type": "execute_result"
    }
   ],
   "source": [
    "complex(10.2+23.4567)"
   ]
  },
  {
   "cell_type": "code",
   "execution_count": 28,
   "id": "6930f20c-30a5-4af1-9e6d-61ea4ebe2b0e",
   "metadata": {},
   "outputs": [
    {
     "data": {
      "text/plain": [
       "(1+0j)"
      ]
     },
     "execution_count": 28,
     "metadata": {},
     "output_type": "execute_result"
    }
   ],
   "source": [
    "complex(True,False)"
   ]
  },
  {
   "cell_type": "code",
   "execution_count": 30,
   "id": "caf4dc3f-b629-4920-b3e5-a008021781a0",
   "metadata": {},
   "outputs": [
    {
     "data": {
      "text/plain": [
       "1j"
      ]
     },
     "execution_count": 30,
     "metadata": {},
     "output_type": "execute_result"
    }
   ],
   "source": [
    "complex(False,True)"
   ]
  },
  {
   "cell_type": "code",
   "execution_count": 32,
   "id": "2e3f74b1-2f30-4f8c-b4db-93e55814ea09",
   "metadata": {},
   "outputs": [
    {
     "data": {
      "text/plain": [
       "(10+0j)"
      ]
     },
     "execution_count": 32,
     "metadata": {},
     "output_type": "execute_result"
    }
   ],
   "source": [
    "complex('10')"
   ]
  },
  {
   "cell_type": "code",
   "execution_count": 34,
   "id": "a5cd47c5-426b-4761-82eb-4d33d66c3aad",
   "metadata": {},
   "outputs": [
    {
     "ename": "TypeError",
     "evalue": "complex() can't take second arg if first is a string",
     "output_type": "error",
     "traceback": [
      "\u001b[0;31m---------------------------------------------------------------------------\u001b[0m",
      "\u001b[0;31mTypeError\u001b[0m                                 Traceback (most recent call last)",
      "Cell \u001b[0;32mIn[34], line 1\u001b[0m\n\u001b[0;32m----> 1\u001b[0m \u001b[38;5;28mcomplex\u001b[39m(\u001b[38;5;124m'\u001b[39m\u001b[38;5;124m10\u001b[39m\u001b[38;5;124m'\u001b[39m,\u001b[38;5;124m'\u001b[39m\u001b[38;5;124m20\u001b[39m\u001b[38;5;124m'\u001b[39m)\n",
      "\u001b[0;31mTypeError\u001b[0m: complex() can't take second arg if first is a string"
     ]
    }
   ],
   "source": [
    "complex('10','20')"
   ]
  },
  {
   "cell_type": "code",
   "execution_count": 36,
   "id": "02488c96-871c-4291-a42a-f069cc4bee0c",
   "metadata": {},
   "outputs": [
    {
     "data": {
      "text/plain": [
       "'10'"
      ]
     },
     "execution_count": 36,
     "metadata": {},
     "output_type": "execute_result"
    }
   ],
   "source": [
    "str(10)"
   ]
  },
  {
   "cell_type": "code",
   "execution_count": 38,
   "id": "63d9bfbb-2041-4a35-9015-a54855b509d5",
   "metadata": {},
   "outputs": [
    {
     "ename": "TypeError",
     "evalue": "str() argument 'encoding' must be str, not int",
     "output_type": "error",
     "traceback": [
      "\u001b[0;31m---------------------------------------------------------------------------\u001b[0m",
      "\u001b[0;31mTypeError\u001b[0m                                 Traceback (most recent call last)",
      "Cell \u001b[0;32mIn[38], line 1\u001b[0m\n\u001b[0;32m----> 1\u001b[0m \u001b[38;5;28mstr\u001b[39m(\u001b[38;5;241m10\u001b[39m,\u001b[38;5;241m20\u001b[39m)\n",
      "\u001b[0;31mTypeError\u001b[0m: str() argument 'encoding' must be str, not int"
     ]
    }
   ],
   "source": [
    "str(10,20)"
   ]
  },
  {
   "cell_type": "code",
   "execution_count": 40,
   "id": "f303bc45-7359-4758-95df-a3ba5911eed9",
   "metadata": {},
   "outputs": [
    {
     "data": {
      "text/plain": [
       "'101.1'"
      ]
     },
     "execution_count": 40,
     "metadata": {},
     "output_type": "execute_result"
    }
   ],
   "source": [
    "str(101.10)"
   ]
  },
  {
   "cell_type": "code",
   "execution_count": 42,
   "id": "b8f4cda9-f226-4647-9d0b-191d0b70ca89",
   "metadata": {},
   "outputs": [
    {
     "data": {
      "text/plain": [
       "'True'"
      ]
     },
     "execution_count": 42,
     "metadata": {},
     "output_type": "execute_result"
    }
   ],
   "source": [
    "str(True)"
   ]
  },
  {
   "cell_type": "code",
   "execution_count": 44,
   "id": "61661693-8513-4d42-8f0f-e0b35fe98d31",
   "metadata": {},
   "outputs": [
    {
     "data": {
      "text/plain": [
       "'False'"
      ]
     },
     "execution_count": 44,
     "metadata": {},
     "output_type": "execute_result"
    }
   ],
   "source": [
    "str(False)"
   ]
  },
  {
   "cell_type": "code",
   "execution_count": 46,
   "id": "5d4f9322-af56-4c0d-85de-d9a41ade390f",
   "metadata": {},
   "outputs": [
    {
     "data": {
      "text/plain": [
       "'(1+2j)'"
      ]
     },
     "execution_count": 46,
     "metadata": {},
     "output_type": "execute_result"
    }
   ],
   "source": [
    "str(1+2j)"
   ]
  },
  {
   "cell_type": "code",
   "execution_count": 48,
   "id": "52a8c3be-273e-4325-9401-1f411746e252",
   "metadata": {},
   "outputs": [
    {
     "data": {
      "text/plain": [
       "True"
      ]
     },
     "execution_count": 48,
     "metadata": {},
     "output_type": "execute_result"
    }
   ],
   "source": [
    "bool(10)"
   ]
  },
  {
   "cell_type": "code",
   "execution_count": 50,
   "id": "23977ca3-50fe-4d36-ab47-21f1a252cd0b",
   "metadata": {},
   "outputs": [
    {
     "data": {
      "text/plain": [
       "False"
      ]
     },
     "execution_count": 50,
     "metadata": {},
     "output_type": "execute_result"
    }
   ],
   "source": [
    "bool(0)"
   ]
  },
  {
   "cell_type": "code",
   "execution_count": 52,
   "id": "a0f08216-8afc-4a57-898e-cafcc2670e7d",
   "metadata": {},
   "outputs": [
    {
     "data": {
      "text/plain": [
       "True"
      ]
     },
     "execution_count": 52,
     "metadata": {},
     "output_type": "execute_result"
    }
   ],
   "source": [
    "bool(15)"
   ]
  },
  {
   "cell_type": "code",
   "execution_count": 54,
   "id": "47d73538-4baa-4871-84ad-d95c934e527a",
   "metadata": {},
   "outputs": [
    {
     "data": {
      "text/plain": [
       "False"
      ]
     },
     "execution_count": 54,
     "metadata": {},
     "output_type": "execute_result"
    }
   ],
   "source": [
    "bool()"
   ]
  },
  {
   "cell_type": "code",
   "execution_count": 56,
   "id": "de69fb5f-0f99-4fa4-b35d-96637fb5874d",
   "metadata": {},
   "outputs": [
    {
     "data": {
      "text/plain": [
       "False"
      ]
     },
     "execution_count": 56,
     "metadata": {},
     "output_type": "execute_result"
    }
   ],
   "source": [
    "bool( )"
   ]
  },
  {
   "cell_type": "code",
   "execution_count": 58,
   "id": "98aa6a22-cbce-459d-a824-e759ffd47fe3",
   "metadata": {},
   "outputs": [
    {
     "data": {
      "text/plain": [
       "True"
      ]
     },
     "execution_count": 58,
     "metadata": {},
     "output_type": "execute_result"
    }
   ],
   "source": [
    "bool(2.4)"
   ]
  },
  {
   "cell_type": "code",
   "execution_count": 60,
   "id": "34042201-f27d-4e9d-b657-aa711b34bc12",
   "metadata": {},
   "outputs": [
    {
     "data": {
      "text/plain": [
       "True"
      ]
     },
     "execution_count": 60,
     "metadata": {},
     "output_type": "execute_result"
    }
   ],
   "source": [
    "bool(1+2j)"
   ]
  },
  {
   "cell_type": "code",
   "execution_count": 62,
   "id": "c888ee7e-450e-4496-8083-9da0c1702527",
   "metadata": {},
   "outputs": [
    {
     "data": {
      "text/plain": [
       "True"
      ]
     },
     "execution_count": 62,
     "metadata": {},
     "output_type": "execute_result"
    }
   ],
   "source": [
    "bool('nit')"
   ]
  },
  {
   "cell_type": "code",
   "execution_count": null,
   "id": "e934a8d6-5f22-4ec4-ba05-d413a447b97e",
   "metadata": {},
   "outputs": [],
   "source": []
  },
  {
   "cell_type": "code",
   "execution_count": null,
   "id": "c8ba82e8-9d2e-4c16-8bbc-b375dac0300c",
   "metadata": {},
   "outputs": [],
   "source": []
  },
  {
   "cell_type": "code",
   "execution_count": null,
   "id": "e6ddfe11-057c-4a52-a96b-ee8a3df036e3",
   "metadata": {},
   "outputs": [],
   "source": []
  },
  {
   "cell_type": "code",
   "execution_count": null,
   "id": "6b2717cc-9477-47c0-8778-6dfef3a39a6f",
   "metadata": {},
   "outputs": [],
   "source": []
  },
  {
   "cell_type": "code",
   "execution_count": null,
   "id": "cb01cea5-c4aa-460e-858a-a841934ccca5",
   "metadata": {},
   "outputs": [],
   "source": []
  },
  {
   "cell_type": "code",
   "execution_count": null,
   "id": "92167ec0-00a3-41f5-aedc-a899dd8d3807",
   "metadata": {},
   "outputs": [],
   "source": []
  },
  {
   "cell_type": "code",
   "execution_count": null,
   "id": "1d4b295f-8e44-4ffb-810f-e645705ba92d",
   "metadata": {},
   "outputs": [],
   "source": []
  },
  {
   "cell_type": "code",
   "execution_count": null,
   "id": "a5c4bf0f-91b2-4b21-afc4-1dd93005b63f",
   "metadata": {},
   "outputs": [],
   "source": []
  },
  {
   "cell_type": "code",
   "execution_count": null,
   "id": "62fc048f-cc85-4129-859f-fe93ea66a104",
   "metadata": {},
   "outputs": [],
   "source": []
  },
  {
   "cell_type": "code",
   "execution_count": null,
   "id": "10d2d36e-022c-4068-93a1-850482b808f0",
   "metadata": {},
   "outputs": [],
   "source": []
  },
  {
   "cell_type": "code",
   "execution_count": null,
   "id": "8d8aabb8-2d20-48d6-b014-0744723f2152",
   "metadata": {},
   "outputs": [],
   "source": []
  },
  {
   "cell_type": "code",
   "execution_count": null,
   "id": "5105b150-558e-45f0-b5a7-c067d0b8834b",
   "metadata": {},
   "outputs": [],
   "source": []
  },
  {
   "cell_type": "code",
   "execution_count": null,
   "id": "79eef7c8-0e8f-43cf-ad0f-53f7a7ccac46",
   "metadata": {},
   "outputs": [],
   "source": []
  }
 ],
 "metadata": {
  "kernelspec": {
   "display_name": "Python [conda env:base] *",
   "language": "python",
   "name": "conda-base-py"
  },
  "language_info": {
   "codemirror_mode": {
    "name": "ipython",
    "version": 3
   },
   "file_extension": ".py",
   "mimetype": "text/x-python",
   "name": "python",
   "nbconvert_exporter": "python",
   "pygments_lexer": "ipython3",
   "version": "3.12.7"
  }
 },
 "nbformat": 4,
 "nbformat_minor": 5
}
